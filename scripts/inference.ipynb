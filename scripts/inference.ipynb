{
 "cells": [
  {
   "cell_type": "code",
   "execution_count": null,
   "id": "788bb4d9",
   "metadata": {},
   "outputs": [
    {
     "name": "stderr",
     "output_type": "stream",
     "text": [
      "c:\\Users\\USER\\OneDrive\\Bureau\\FTM-absa-product-review\\absa_env\\Lib\\site-packages\\tqdm\\auto.py:21: TqdmWarning: IProgress not found. Please update jupyter and ipywidgets. See https://ipywidgets.readthedocs.io/en/stable/user_install.html\n",
      "  from .autonotebook import tqdm as notebook_tqdm\n"
     ]
    }
   ],
   "source": [
    "from transformers import pipeline"
   ]
  },
  {
   "cell_type": "code",
   "execution_count": 5,
   "id": "09ebe898",
   "metadata": {},
   "outputs": [],
   "source": [
    "from transformers import AutoTokenizer, AutoModelForSequenceClassification"
   ]
  },
  {
   "cell_type": "code",
   "execution_count": 6,
   "id": "af6d3611",
   "metadata": {},
   "outputs": [],
   "source": [
    "asc_model_path = \"../models/asc_model/checkpoint-885\"\n",
    "tokenizer = AutoTokenizer.from_pretrained(\"bert-base-uncased\")\n",
    "asc_model = AutoModelForSequenceClassification.from_pretrained(asc_model_path)"
   ]
  },
  {
   "cell_type": "code",
   "execution_count": 27,
   "id": "c09fdb7b",
   "metadata": {},
   "outputs": [
    {
     "name": "stdout",
     "output_type": "stream",
     "text": [
      "Aspect: card → neutral\n"
     ]
    }
   ],
   "source": [
    "sentence = \"I charge it at night and skip taking the cord with me because of the good battery life.\"\n",
    "aspects = [\"card\"]\n",
    "\n",
    "for aspect in aspects:\n",
    "    inputs = tokenizer(\n",
    "        sentence,\n",
    "        aspect,   # <-- important: we pass aspect separately\n",
    "        return_tensors=\"pt\",\n",
    "        truncation=True,\n",
    "        padding=True\n",
    "    )\n",
    "    outputs = asc_model(**inputs)\n",
    "    predicted_class = outputs.logits.argmax(dim=-1).item()\n",
    "    \n",
    "    label_map = {3 :\"positive\", 1: \"negative\", 2: \"neutral\"}  # depends on your training labels\n",
    "    print(f\"Aspect: {aspect} → {label_map[predicted_class]}\")"
   ]
  }
 ],
 "metadata": {
  "kernelspec": {
   "display_name": "absa_env",
   "language": "python",
   "name": "python3"
  },
  "language_info": {
   "codemirror_mode": {
    "name": "ipython",
    "version": 3
   },
   "file_extension": ".py",
   "mimetype": "text/x-python",
   "name": "python",
   "nbconvert_exporter": "python",
   "pygments_lexer": "ipython3",
   "version": "3.12.1"
  }
 },
 "nbformat": 4,
 "nbformat_minor": 5
}
